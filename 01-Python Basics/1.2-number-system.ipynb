{
 "cells": [
  {
   "cell_type": "markdown",
   "id": "a36c6c0b",
   "metadata": {},
   "source": [
    "## **Number System** \n",
    "A `number system` is a way to `represent and express numbers` using a consistent set of `symbols or digits.`\n",
    "- A number system `uses a base` (or radix) to represent values.\n",
    "- The base refers to `the number of unique digits`, including zero, that a system uses to represent numbers."
   ]
  },
  {
   "cell_type": "markdown",
   "id": "4114027d",
   "metadata": {},
   "source": [
    "### **Types of Number System**\n",
    "There are `four common types` of number systems based on the radix or base of the number :\n",
    "\n",
    "1. `Decimal Number System`\n",
    "- The Decimal system is a `base-10` number system.\n",
    "- It uses ten digits: `0, 1, 2, 3, 4, 5, 6, 7, 8 and 9.`\n",
    "- Each digit’s place value is a` power of 10` (e.g., 10^0, 10^1, 10^2).\n",
    "- It is the `standard system` for everyday counting and calculations.\n",
    "\n",
    "2. `Binary Number System`\n",
    "- The Binary system is a `base-2` number system.\n",
    "- It uses two digits:` 0 and 1.`\n",
    "- Each digit’s place value is a `power of 2` (e.g., 2^0, 2^1, 2^2).\n",
    "- The Binary system is the foundation for `data representation in computers and digital electronics.`\n",
    "\n",
    "3. `Octal Number System`\n",
    "- The Octal system is a `base-8` number system.\n",
    "- It uses eight digits: `0, 1, 2, 3, 4, 5, 6 and 7.`\n",
    "- Each digit’s place value is a `power of 8` (e.g., 8^0, 8^1, 8^2).\n",
    "- It is often used to `simplify the representation of binary numbers` by `grouping them into sets of three bits.`\n",
    "\n",
    "4. `Hexadecimal Number System`\n",
    "- The Hexadecimal system is a `base-16` number system.\n",
    "- It uses sixteen digits: `0, 1, 2, 3, 4, 5, 6, 7, 8, 9, A, B, C, D, E and F` (where A = 10, B = 11, etc.).\n",
    "- Each digit’s place value is a `power of 16` (e.g., 16^0, 16^1, 16^2).\n",
    "- Hexadecimal simplifies `binary by representing every 4 bits` as one digit (0-F)."
   ]
  },
  {
   "cell_type": "markdown",
   "id": "f25012dd",
   "metadata": {},
   "source": [
    "## **Unicode**\n",
    "The unicode is `character encoding`, and `its good is to replace the existing character` sets with its standerd UTF.\n",
    "- `UTF` - Unicode transformation format.\n",
    "- `UTF-8` - Its the most commonly used character encoding."
   ]
  },
  {
   "cell_type": "code",
   "execution_count": null,
   "id": "7e36881e",
   "metadata": {},
   "outputs": [
    {
     "name": "stdout",
     "output_type": "stream",
     "text": [
      "97\n",
      "a\n"
     ]
    }
   ],
   "source": [
    "x= \"a\"\n",
    "print(ord(x)) # use this function for calculate the unicode of 'a'.\n",
    "y= 97\n",
    "print(chr(y)) # use this function for calculate the normal number to its unicode.\n",
    "# and its contain only one single symbol or character."
   ]
  }
 ],
 "metadata": {
  "kernelspec": {
   "display_name": "base",
   "language": "python",
   "name": "python3"
  },
  "language_info": {
   "codemirror_mode": {
    "name": "ipython",
    "version": 3
   },
   "file_extension": ".py",
   "mimetype": "text/x-python",
   "name": "python",
   "nbconvert_exporter": "python",
   "pygments_lexer": "ipython3",
   "version": "3.12.7"
  }
 },
 "nbformat": 4,
 "nbformat_minor": 5
}
