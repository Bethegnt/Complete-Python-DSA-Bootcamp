{
 "cells": [
  {
   "cell_type": "markdown",
   "id": "f4109a40",
   "metadata": {},
   "source": [
    "---\n",
    "# **Context** :\n",
    "- what is Data.\n",
    "- Introduction to Variables.\n",
    "   - Declaring and Assigning Variables.\n",
    "   - Naming Conventions.\n",
    "   - Understanding Variable Types.\n",
    "- Introduction Keywords in python\n",
    "- Introduction to Data type \n",
    "   - Type Checking and Conversion.\n",
    "- Input function.\n",
    "- Import function.\n",
    "- Practical Examples and Common Errors (simple calculator).\n",
    "---"
   ]
  },
  {
   "cell_type": "markdown",
   "id": "42679a58",
   "metadata": {},
   "source": [
    "## **Data** :\n",
    "`Data` is any piece of information which is used by the program to accomplish a task.\n",
    "\n",
    "`Example` of task:\n",
    "- Find sum of two numbers\n",
    "- Check whether a given number is even or odd\n",
    "- Find lcm of the number.\n",
    "\n",
    "All above the task can be done only with some amount of data."
   ]
  },
  {
   "cell_type": "markdown",
   "id": "bc3e9271",
   "metadata": {},
   "source": [
    "## **Variables** :\n",
    "\n",
    "`Variables` are fundamental elements in programming used to `store data` that can be referenced and manipulated in a program, and its `used during execution` of the program.\n",
    "- In C/C++, you need to deaclare variables only after declaration you can use them `int a;` or `float b;`\n",
    "- In python you `don't daclare variables`. if there is a need of a variable you think of a name and start using it as a variable."
   ]
  },
  {
   "cell_type": "code",
   "execution_count": null,
   "id": "aab19765",
   "metadata": {},
   "outputs": [
    {
     "name": "stdout",
     "output_type": "stream",
     "text": [
      "My name is: Gagan \n",
      "Age is: 25\n",
      "Height is: 5.11\n"
     ]
    }
   ],
   "source": [
    "# Declaring And Assigning Variables\n",
    "\n",
    "age=25 # age is variable\n",
    "height=5.11 \n",
    "name=\"Gagan\"\n",
    "is_student=True\n",
    "\n",
    "# printing the variables\n",
    "\n",
    "print(f\"My name is: {name} \")\n",
    "print(f\"Age is: {age}\")\n",
    "print(f\"Height is: {height}\")"
   ]
  },
  {
   "cell_type": "markdown",
   "id": "c3576707",
   "metadata": {},
   "source": [
    "### **Naming Conventions**\n",
    "- Variable names should be `descriptive`\n",
    "- They must start with a `letter` or an `'_'` and `contains letter`,`numbers` and `underscores`\n",
    "- Variables names `case sensitive`\n",
    "- Keywords are not used as variable name"
   ]
  },
  {
   "cell_type": "code",
   "execution_count": null,
   "id": "2a2460e0",
   "metadata": {},
   "outputs": [
    {
     "ename": "SyntaxError",
     "evalue": "invalid syntax. Maybe you meant '==' or ':=' instead of '='? (2143146982.py, line 14)",
     "output_type": "error",
     "traceback": [
      "\u001b[0;36m  Cell \u001b[0;32mIn[4], line 14\u001b[0;36m\u001b[0m\n\u001b[0;31m    @name=\"Gagan\"       # This is invalid syntax\u001b[0m\n\u001b[0m     ^\u001b[0m\n\u001b[0;31mSyntaxError\u001b[0m\u001b[0;31m:\u001b[0m invalid syntax. Maybe you meant '==' or ':=' instead of '='?\n"
     ]
    }
   ],
   "source": [
    "#valid variable names\n",
    "\n",
    "first_name =\"Gagan\" # This is correct syntax\n",
    "last_name=\"Tyagi\"   # This is correct syntax\n",
    "\n",
    "# Invalid variable names\n",
    "# 2age=25\n",
    "# first-name=\"mansi\"\n",
    "@name=\"Gagan\"       # This is invalid syntax"
   ]
  },
  {
   "cell_type": "markdown",
   "id": "950cfedc",
   "metadata": {},
   "source": [
    "### **Understnading Variable types**\n",
    "\n",
    "- python is `case sensitive` language.\n",
    "- Python is `dynamically typed`,type of a variable is determined at runtime"
   ]
  },
  {
   "cell_type": "code",
   "execution_count": 12,
   "id": "a234cf6f",
   "metadata": {},
   "outputs": [
    {
     "name": "stdout",
     "output_type": "stream",
     "text": [
      "False\n",
      "5\n"
     ]
    }
   ],
   "source": [
    "# case sensitivity\n",
    "name=\"Gagan\"\n",
    "Name=\"Tyagi\"\n",
    "print(name ==Name)\n",
    "\n",
    "age=25 #int\n",
    "height=5.11 #float\n",
    "name=\"Gagan\" #str\n",
    "is_student=True #bool\n",
    "something = \"something\"\n",
    "something = 5\n",
    "\n",
    "print(something)       # Dynamic tyep lang, variable's datatype decides on run time not in compiled time.\n"
   ]
  },
  {
   "cell_type": "markdown",
   "id": "cc31d74f",
   "metadata": {},
   "source": [
    "## **Keywords in python** :\n",
    "\n",
    "- Keywords are `reserved words` that Python `uses for itself.`\n",
    "- They have `special meaning`, so cannot be used as `variable/function names.`\n",
    "\n",
    "| Keywords  |   Meaning                |\n",
    "|-----------|--------------------------|\n",
    "|    False  |   Boolean false value    |\n",
    "|    True   |   Boolean true value     |\n",
    "|    None   |   Null/Empty             |\n",
    "|    and    |   Logical AND            |\n",
    "|    or     |   Logical OR             |\n",
    "|    not    |   Logical NOT            |\n",
    "|    if     |   Condition check        |\n",
    "|    elif   |   else if                |\n",
    "|    else   |   Otherwise              |\n",
    "|    for    |   For Loop(no condition just iterate)              |\n",
    "|    while  |   Loop till condition true    |\n",
    "|    break  |   Exti from the loop    |\n",
    "|    continue   |   Skip loops next iteration    |\n",
    "|    pass   |   Placeholder/empty block(if u dont want to write anything)    |\n",
    "|    def   |   Function define    |\n",
    "|    return   |   Return the value from function    |\n",
    "|    yield   |  Makes generator(advanced)    |\n",
    "|    class   |   Making class    |\n",
    "|    try   |   Error handling block   |\n",
    "|    except   |   For error catch     |\n",
    "|    finally   |   will always run, whether there is an error or not    |\n",
    "|    raise   |   Throw the custom error    |\n",
    "|    assert   |   Condition checks to debug    |\n",
    "|    import   |   uses for another files and modules    |\n",
    "|    from   |   for import spcefic things     |\n",
    "|    as   |   for alias name    |\n",
    "|    global   |   for makes variable globally    |\n",
    "|    nonlocal   |   for variable of enclosed function to do that    |\n",
    "|    lambda   |   for Anonymous function    |\n",
    "|    with   |   for context manager(file handling)    |\n",
    "|    in   |   membership check (x in list)    |\n",
    "|    is   |   identity check (a is b)    |\n",
    "|    del   |   variable/object delete    |\n",
    "|    await   |   async code    |\n",
    "|    async   |   create asynchronous function   |\n",
    "\n"
   ]
  },
  {
   "cell_type": "markdown",
   "id": "fd177645",
   "metadata": {},
   "source": [
    "## **DataTypes** :\n",
    "\n",
    "- Data types means type of data.\n",
    "\n",
    "- Number\n",
    "  - int      => 5\n",
    "  - float    => 3.7\n",
    "  - comeplex => 3+4j\n",
    "\n",
    "- Boolean\n",
    "  - bool     => True/False\n",
    "\n",
    "- String\n",
    "  - str      => 'gagan'/\"gagan\"/\"\"gagan\"\"/\"\"\"gagan\"\"\"\n",
    "\n",
    "- Advanced Data Types\n",
    "   - Lists\n",
    "   - Tuples\n",
    "   - Sets\n",
    "   - Dictionaries  \n",
    "\n",
    "double/char is not there in python"
   ]
  },
  {
   "cell_type": "markdown",
   "id": "e424fb9e",
   "metadata": {},
   "source": [
    "### **Type Checking and Conversion**\n",
    "\n",
    "- type check with type function.\n",
    "- type conversion are mainlly two types:\n",
    "  - Implicit conversion(Automatic conversion)\n",
    "  - Explicit conversion(Manually conversion)"
   ]
  },
  {
   "cell_type": "markdown",
   "id": "c9884c83",
   "metadata": {},
   "source": [
    "| From/To  |   int()  |  float() |   str()  |  bool()  |  list()  |  tuple() |   set()  |\n",
    "|----------|----------|----------|----------|----------|----------|----------|----------|\n",
    "|    int   |   YES    |   YES    |   YES    |   YES    |    NO    |    NO    |    NO    |\n",
    "|   float  |   YES    |   YES    |   YES    |   YES    |    NO    |    NO    |    NO    |\n",
    "|    str   |   YES*   |   YES*   |   YES    |   YES    |   YES**  |   YES**  |   YES**  |\n",
    "|   list   |    NO    |   NO     |   YES    |   YES    |   YES    |   YES    |   YES    |\n",
    "|   tuple  |    NO    |   NO     |   YES    |   YES    |   YES    |   YES    |   YES    |\n",
    "|    set   |    NO    |   NO     |   YES    |   YES    |   YES    |   YES    |   YES    |\n",
    "\n",
    "[* - str will be converted to int/float only if the str contains valid numbers.]\n",
    "\n",
    "[** - str to list/tuple/set will be converted only if string is iterable.]"
   ]
  },
  {
   "cell_type": "code",
   "execution_count": 6,
   "id": "47838497",
   "metadata": {},
   "outputs": [
    {
     "name": "stdout",
     "output_type": "stream",
     "text": [
      "<class 'int'>\n",
      "7.1\n",
      "<class 'float'>\n",
      "25\n",
      "<class 'str'>\n"
     ]
    }
   ],
   "source": [
    "age = 25\n",
    "print(type(age))   # type checking\n",
    "\n",
    "x = 5\n",
    "y = 2.1\n",
    "z= x+y\n",
    "print(z)\n",
    "print(type(z)) #Implicit conversion (automatic type conversion.)\n",
    "\n",
    "age_str = str(age)\n",
    "print(age_str)\n",
    "print(type(age_str))  # type conversion\n",
    "\n"
   ]
  },
  {
   "cell_type": "markdown",
   "id": "57b1366f",
   "metadata": {},
   "source": [
    "### **Input function**\n",
    "Take input from user."
   ]
  },
  {
   "cell_type": "code",
   "execution_count": 2,
   "id": "c8239e23",
   "metadata": {},
   "outputs": [
    {
     "name": "stdout",
     "output_type": "stream",
     "text": [
      "25 <class 'int'>\n"
     ]
    }
   ],
   "source": [
    "## input\n",
    "\n",
    "age=int(input(\"What is the age\"))\n",
    "print(age,type(age))\n"
   ]
  },
  {
   "cell_type": "markdown",
   "id": "5adeddb1",
   "metadata": {},
   "source": [
    "### **Import**\n",
    "if you want to access some in-build elements from another py files then import is used.\n",
    "\n",
    "- `Module` - Its a python file. it can contain instance objects,function objects,class objects in simple words, it contain variables functions and classes.\n",
    "\n",
    "- `Packages` - Its a collection of modules and sub-packages.\n",
    "\n",
    "- `Library` - Its a collection of packages.\n",
    "\n",
    "Suppose, there are two files or two modules A1,A2 and in A2.py file x=5 is present and i want print x value in A1 file \n",
    "> A2.py\n",
    ">> x=5\n",
    "\n",
    "> A1.py\n",
    ">> import A2\n",
    ">> print(A2.x) # moduleElement.moduleElement (moduleElement can be variables(instance object),function,class)\n"
   ]
  },
  {
   "cell_type": "code",
   "execution_count": 3,
   "id": "b8d71ced",
   "metadata": {},
   "outputs": [
    {
     "name": "stdout",
     "output_type": "stream",
     "text": [
      "35\n",
      "15\n",
      "250\n",
      "2.5\n",
      "5\n"
     ]
    }
   ],
   "source": [
    "# Simple calculator :\n",
    "x = int(input(\"Enter value of x\"))\n",
    "y = int(input(\"Enter value of y\"))\n",
    "\n",
    "sum = x+y\n",
    "sub = x-y\n",
    "mult = x*y\n",
    "div = x/y\n",
    "mod = x%y\n",
    "\n",
    "print(sum)\n",
    "print(sub)\n",
    "print(mult)\n",
    "print(div)\n",
    "print(mod)\n"
   ]
  },
  {
   "cell_type": "markdown",
   "id": "ad8e5163",
   "metadata": {},
   "source": [
    "# **Conclusion** :\n",
    "Variables are essential in Python programming for storing and manipulating data. Understanding how to declare, assign, and use variables effectively is crucial for writing functional and efficient code. Following proper naming conventions and understanding variable types will help in maintaining readability and consistency in your code."
   ]
  },
  {
   "cell_type": "markdown",
   "id": "85ea7e1c",
   "metadata": {},
   "source": []
  }
 ],
 "metadata": {
  "kernelspec": {
   "display_name": "base",
   "language": "python",
   "name": "python3"
  },
  "language_info": {
   "codemirror_mode": {
    "name": "ipython",
    "version": 3
   },
   "file_extension": ".py",
   "mimetype": "text/x-python",
   "name": "python",
   "nbconvert_exporter": "python",
   "pygments_lexer": "ipython3",
   "version": "3.12.7"
  }
 },
 "nbformat": 4,
 "nbformat_minor": 5
}
