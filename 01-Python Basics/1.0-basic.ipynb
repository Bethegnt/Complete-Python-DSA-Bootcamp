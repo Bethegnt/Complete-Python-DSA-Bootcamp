{
 "cells": [
  {
   "cell_type": "markdown",
   "id": "d7e7c345",
   "metadata": {},
   "source": [
    "---\n",
    "# **Context** :\n",
    "- Definition of syntax and semantics.\n",
    "- Basic Syntax rules in python.\n",
    "  - Case sensitive\n",
    "  - Indentation\n",
    "  - Comments\n",
    "  - Line-continuation\n",
    "  - Multiple statement on a single line\n",
    "- Understanding semantics in python.\n",
    "  - Type interference\n",
    "- Common syntax errors and how to avoid them. \n",
    "---\n"
   ]
  },
  {
   "cell_type": "markdown",
   "id": "05be478d",
   "metadata": {},
   "source": [
    "## **Syntax and Semantics in Python**"
   ]
  },
  {
   "cell_type": "markdown",
   "id": "a1a08035",
   "metadata": {},
   "source": [
    "`Syntax` refer to the set of the rules that defines the combinations of the symbols that are considered to be correctly structured programs in a language. In simpler terms, syntax is all about the correct arrangement of the words and symbols in a code.\n",
    "\n",
    "`Semantics` refer to the meaning or the interpretation of the symbols, characters, and the commands in a language. Its all about what the code is supposed to do when it runs."
   ]
  },
  {
   "cell_type": "markdown",
   "id": "d48d889f",
   "metadata": {},
   "source": [
    "### **Syntax in python** :\n"
   ]
  },
  {
   "cell_type": "markdown",
   "id": "c722af95",
   "metadata": {},
   "source": [
    "### Case sensitive"
   ]
  },
  {
   "cell_type": "code",
   "execution_count": null,
   "id": "99067f7f",
   "metadata": {},
   "outputs": [
    {
     "name": "stdout",
     "output_type": "stream",
     "text": [
      "Gagan\n",
      "Tyagi\n"
     ]
    }
   ],
   "source": [
    "## Basic syntax rules in python\n",
    "## Case sensitivity - Python is case sensitive\n",
    "\n",
    "name = \"Gagan\" # direct variable assingment not like other programming lang string name =\"Gagan\"\n",
    "Name = \"Tyagi\"\n",
    "\n",
    "print(name)\n",
    "print(Name)"
   ]
  },
  {
   "cell_type": "markdown",
   "id": "9f3f66e3",
   "metadata": {},
   "source": [
    "### Indentation\n",
    "`Indentation` in python is used to define the structure and hierarchy of the code. Unlike many other programming language that use braces {} to delimit blocks of code, python uses indentation to determine the grouping of statments. This means that all the statements within a block must be intended at the same level.\n",
    "\n",
    "`Colons` in python is used for start of a block in if,elif,else,for,while,def."
   ]
  },
  {
   "cell_type": "code",
   "execution_count": null,
   "id": "cec92fdb",
   "metadata": {},
   "outputs": [
    {
     "name": "stdout",
     "output_type": "stream",
     "text": [
      "30\n",
      "30\n"
     ]
    }
   ],
   "source": [
    "# python uses indentation to define blocks of code. Consistent use of spaces (commonly 4) or a tab is required.\n",
    "\n",
    "age=30 \n",
    "if age>25: # here colons is used for start of block statements.\n",
    "    print(age) # so here indetation used.\n",
    "print(age)    "
   ]
  },
  {
   "cell_type": "markdown",
   "id": "e6035f54",
   "metadata": {},
   "source": [
    "### Comments \n",
    "`Single line comments` -  Its starts with # and then write the explation or whatever you want.\n",
    "\n",
    "`Multiple line comments` - python officially doesnt consider multiple line of code but a line written in triple quotes is a multiple line string in python and if you dont assign it to a variable, python ignore it - thats why people use it as a comment.\n"
   ]
  },
  {
   "cell_type": "code",
   "execution_count": 6,
   "id": "06c33a15",
   "metadata": {},
   "outputs": [
    {
     "name": "stdout",
     "output_type": "stream",
     "text": [
      "Hello Gagan !\n"
     ]
    },
    {
     "data": {
      "text/plain": [
       "' print(\"gagan\") '"
      ]
     },
     "execution_count": 6,
     "metadata": {},
     "output_type": "execute_result"
    }
   ],
   "source": [
    "# This is a single line of code\n",
    "print(\"Hello Gagan !\")\n",
    "\n",
    "# This is a multiple line of code which is not support in python notebook. \n",
    "''' print(\"gagan\") '''"
   ]
  },
  {
   "cell_type": "markdown",
   "id": "27034987",
   "metadata": {},
   "source": [
    "### Line Continuation\n",
    "Use a `backslash (\\)` to continue a statement to the next line. but there should not be a space after blackslash."
   ]
  },
  {
   "cell_type": "code",
   "execution_count": 11,
   "id": "deb3060c",
   "metadata": {},
   "outputs": [
    {
     "name": "stdout",
     "output_type": "stream",
     "text": [
      "37\n",
      "-5\n"
     ]
    }
   ],
   "source": [
    "#continuation of the statement\n",
    "\n",
    "total = 1+2+3+4+5+\\\n",
    "4+5+6+7\n",
    "print(total)\n",
    "\n",
    "operation = 1+3-4*4+5+\\\n",
    "3*2+1-5\n",
    "print(operation)"
   ]
  },
  {
   "cell_type": "markdown",
   "id": "919a561c",
   "metadata": {},
   "source": [
    "### Multiple statements on a single line\n",
    "\n"
   ]
  },
  {
   "cell_type": "code",
   "execution_count": null,
   "id": "a42da213",
   "metadata": {},
   "outputs": [
    {
     "name": "stdout",
     "output_type": "stream",
     "text": [
      "6\n",
      "242\n"
     ]
    }
   ],
   "source": [
    "#multiple statement on a single line\n",
    "m=3;n=2;z=m*n\n",
    "print(z)\n",
    "\n",
    "a=12;b=23;c=34;d=a*b-c\n",
    "print(d)"
   ]
  },
  {
   "cell_type": "markdown",
   "id": "3f47e7af",
   "metadata": {},
   "source": [
    "## **Sementics in python** :\n"
   ]
  },
  {
   "cell_type": "markdown",
   "id": "3e7a62ea",
   "metadata": {},
   "source": [
    "### Variable assignment and variable overwriting\n",
    "\n",
    "`Variable assignment` In python, direct variable assingment not like other programming lang\n",
    "\n",
    "`Variable overwriting` In python, the type of a variable is dynamic. if the value is changed, the type may also change.\n",
    "\n",
    "`sep` is an arguments of the print() function for seperation, and its not a variable or operator and not for used inside expressions like variable + sep=\" \""
   ]
  },
  {
   "cell_type": "code",
   "execution_count": null,
   "id": "eb6d86fb",
   "metadata": {},
   "outputs": [
    {
     "name": "stdout",
     "output_type": "stream",
     "text": [
      "GAGAN  TYAGI\n",
      "5,6\n",
      "<class 'int'>\n",
      "<class 'float'>\n"
     ]
    }
   ],
   "source": [
    "# variable assignment and variable overwritting\n",
    "\n",
    "x=\"GAGAN\" #here x is string\n",
    "y=\"TYAGI\" #here variable assignment used\n",
    "print(x,\"\",y) \n",
    "\n",
    "x=5 # here x is integer\n",
    "y=6\n",
    "z=2.0\n",
    "print(x,y,sep=\",\") #here seperator is used for two variable \n",
    "print(type(x)) #data-type of x \n",
    "print(type(z))\n"
   ]
  },
  {
   "cell_type": "markdown",
   "id": "eb134b57",
   "metadata": {},
   "source": [
    "### Type Interference\n",
    "\n",
    "You don't need to specify the type explicitly; Python guesses it itself.\n"
   ]
  },
  {
   "cell_type": "code",
   "execution_count": 23,
   "id": "ed1b3aa2",
   "metadata": {},
   "outputs": [
    {
     "name": "stdout",
     "output_type": "stream",
     "text": [
      "type of variable is : <class 'int'>\n",
      "type of variable is : <class 'str'>\n"
     ]
    }
   ],
   "source": [
    "variable  = 10\n",
    "print(f\"type of variable is : {type(variable)}\")\n",
    "variable = \"GAGAN\"\n",
    "print(f\"type of variable is : {type(variable)}\")"
   ]
  },
  {
   "cell_type": "code",
   "execution_count": 24,
   "id": "771679cc",
   "metadata": {},
   "outputs": [
    {
     "ename": "NameError",
     "evalue": "name 'h' is not defined",
     "output_type": "error",
     "traceback": [
      "\u001b[31m---------------------------------------------------------------------------\u001b[39m",
      "\u001b[31mNameError\u001b[39m                                 Traceback (most recent call last)",
      "\u001b[36mCell\u001b[39m\u001b[36m \u001b[39m\u001b[32mIn[24]\u001b[39m\u001b[32m, line 2\u001b[39m\n\u001b[32m      1\u001b[39m \u001b[38;5;66;03m#name error \u001b[39;00m\n\u001b[32m----> \u001b[39m\u001b[32m2\u001b[39m l=\u001b[43mh\u001b[49m\n\u001b[32m      3\u001b[39m \u001b[38;5;28mprint\u001b[39m(l)\n",
      "\u001b[31mNameError\u001b[39m: name 'h' is not defined"
     ]
    }
   ],
   "source": [
    "#name error \n",
    "l=h\n",
    "print(l)"
   ]
  },
  {
   "cell_type": "markdown",
   "id": "01b5a787",
   "metadata": {},
   "source": [
    "# **Conclusion**:\n",
    "\n",
    "Understanding the syntax and sementics of python is crucial for writing correct and meaningful programs. syntax ensures the code is properly structured, while semantics ensures the code behaves as expected."
   ]
  }
 ],
 "metadata": {
  "kernelspec": {
   "display_name": "Python 3",
   "language": "python",
   "name": "python3"
  },
  "language_info": {
   "codemirror_mode": {
    "name": "ipython",
    "version": 3
   },
   "file_extension": ".py",
   "mimetype": "text/x-python",
   "name": "python",
   "nbconvert_exporter": "python",
   "pygments_lexer": "ipython3",
   "version": "3.12.0"
  }
 },
 "nbformat": 4,
 "nbformat_minor": 5
}
